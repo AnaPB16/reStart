{
 "cells": [
  {
   "cell_type": "code",
   "execution_count": null,
   "id": "three-shooting",
   "metadata": {},
   "outputs": [],
   "source": [
    "from ipyturtle import Turtle"
   ]
  },
  {
   "cell_type": "code",
   "execution_count": null,
   "id": "official-vintage",
   "metadata": {},
   "outputs": [],
   "source": [
    "t = Turtle()\n",
    "t"
   ]
  },
  {
   "cell_type": "code",
   "execution_count": null,
   "id": "surprised-elevation",
   "metadata": {},
   "outputs": [],
   "source": [
    "def square(size):\n",
    "    for i in range(4):\n",
    "        t.forward(size)\n",
    "        t.right(90)"
   ]
  },
  {
   "cell_type": "code",
   "execution_count": null,
   "id": "related-combine",
   "metadata": {},
   "outputs": [],
   "source": [
    "def circle():\n",
    "    for i in range(360):\n",
    "        t.forward(1)\n",
    "        t.right(1)"
   ]
  },
  {
   "cell_type": "code",
   "execution_count": null,
   "id": "swiss-printing",
   "metadata": {},
   "outputs": [],
   "source": [
    "square(20)"
   ]
  },
  {
   "cell_type": "code",
   "execution_count": null,
   "id": "banned-sailing",
   "metadata": {},
   "outputs": [],
   "source": [
    "t.right(90)"
   ]
  },
  {
   "cell_type": "code",
   "execution_count": null,
   "id": "executed-friday",
   "metadata": {},
   "outputs": [],
   "source": [
    "t.forward(90)"
   ]
  },
  {
   "cell_type": "code",
   "execution_count": null,
   "id": "smoking-sacrifice",
   "metadata": {},
   "outputs": [],
   "source": [
    "circle()"
   ]
  },
  {
   "cell_type": "code",
   "execution_count": null,
   "id": "silver-might",
   "metadata": {},
   "outputs": [],
   "source": [
    "t.pencolor()"
   ]
  },
  {
   "cell_type": "code",
   "execution_count": null,
   "id": "fuzzy-subdivision",
   "metadata": {},
   "outputs": [],
   "source": [
    "t.pencolor('Green')"
   ]
  },
  {
   "cell_type": "code",
   "execution_count": null,
   "id": "seventh-overview",
   "metadata": {},
   "outputs": [],
   "source": [
    "square(100)"
   ]
  },
  {
   "cell_type": "code",
   "execution_count": null,
   "id": "italic-applicant",
   "metadata": {},
   "outputs": [],
   "source": []
  }
 ],
 "metadata": {
  "kernelspec": {
   "display_name": "Python 3",
   "language": "python",
   "name": "python3"
  },
  "language_info": {
   "codemirror_mode": {
    "name": "ipython",
    "version": 3
   },
   "file_extension": ".py",
   "mimetype": "text/x-python",
   "name": "python",
   "nbconvert_exporter": "python",
   "pygments_lexer": "ipython3",
   "version": "3.7.10"
  }
 },
 "nbformat": 4,
 "nbformat_minor": 5
}
