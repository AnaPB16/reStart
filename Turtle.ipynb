{
 "cells": [
  {
   "cell_type": "code",
   "execution_count": null,
   "id": "three-shooting",
   "metadata": {},
   "outputs": [],
   "source": [
    "#https://realpython.com/beginners-guide-python-turtle/#getting-to-know-the-python-turtle-library"
   ]
  },
  {
   "cell_type": "code",
   "execution_count": 5,
   "id": "dietary-dietary",
   "metadata": {},
   "outputs": [],
   "source": [
    "from ipyturtle import Turtle"
   ]
  },
  {
   "cell_type": "code",
   "execution_count": 6,
   "id": "official-vintage",
   "metadata": {},
   "outputs": [
    {
     "data": {
      "application/vnd.jupyter.widget-view+json": {
       "model_id": "ee130b8402df4539b1df06bcb26bfc53",
       "version_major": 2,
       "version_minor": 0
      },
      "text/plain": [
       "Turtle()"
      ]
     },
     "metadata": {},
     "output_type": "display_data"
    }
   ],
   "source": [
    "t = Turtle()\n",
    "t"
   ]
  },
  {
   "cell_type": "code",
   "execution_count": 7,
   "id": "surprised-elevation",
   "metadata": {},
   "outputs": [],
   "source": [
    "def square(size):\n",
    "    for i in range(4):\n",
    "        t.forward(size)\n",
    "        t.right(90)"
   ]
  },
  {
   "cell_type": "code",
   "execution_count": 8,
   "id": "related-combine",
   "metadata": {},
   "outputs": [],
   "source": [
    "def circle():\n",
    "    for i in range(360):\n",
    "        t.forward(1)\n",
    "        t.right(1)"
   ]
  },
  {
   "cell_type": "code",
   "execution_count": 9,
   "id": "swiss-printing",
   "metadata": {},
   "outputs": [],
   "source": [
    "square(20)"
   ]
  },
  {
   "cell_type": "code",
   "execution_count": 10,
   "id": "banned-sailing",
   "metadata": {},
   "outputs": [],
   "source": [
    "t.right(90)"
   ]
  },
  {
   "cell_type": "code",
   "execution_count": 11,
   "id": "executed-friday",
   "metadata": {},
   "outputs": [],
   "source": [
    "t.forward(90)"
   ]
  },
  {
   "cell_type": "code",
   "execution_count": 12,
   "id": "smoking-sacrifice",
   "metadata": {},
   "outputs": [],
   "source": [
    "circle()"
   ]
  },
  {
   "cell_type": "code",
   "execution_count": 13,
   "id": "silver-might",
   "metadata": {},
   "outputs": [
    {
     "data": {
      "text/plain": [
       "'Black'"
      ]
     },
     "execution_count": 13,
     "metadata": {},
     "output_type": "execute_result"
    }
   ],
   "source": [
    "t.pencolor()"
   ]
  },
  {
   "cell_type": "code",
   "execution_count": 14,
   "id": "fuzzy-subdivision",
   "metadata": {},
   "outputs": [],
   "source": [
    "t.pencolor('Green')"
   ]
  },
  {
   "cell_type": "code",
   "execution_count": 15,
   "id": "seventh-overview",
   "metadata": {},
   "outputs": [],
   "source": [
    "square(50)"
   ]
  },
  {
   "cell_type": "code",
   "execution_count": null,
   "id": "fatal-basketball",
   "metadata": {},
   "outputs": [],
   "source": []
  }
 ],
 "metadata": {
  "kernelspec": {
   "display_name": "Python 3",
   "language": "python",
   "name": "python3"
  },
  "language_info": {
   "codemirror_mode": {
    "name": "ipython",
    "version": 3
   },
   "file_extension": ".py",
   "mimetype": "text/x-python",
   "name": "python",
   "nbconvert_exporter": "python",
   "pygments_lexer": "ipython3",
   "version": "3.7.10"
  }
 },
 "nbformat": 4,
 "nbformat_minor": 5
}
