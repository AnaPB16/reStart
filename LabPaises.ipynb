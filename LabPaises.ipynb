{
 "cells": [
  {
   "cell_type": "code",
   "execution_count": null,
   "id": "understanding-bridge",
   "metadata": {},
   "outputs": [],
   "source": [
    "!wget https://raw.githubusercontent.com/CSSEGISandData/COVID-19/master/csse_covid_19_data/UID_ISO_FIPS_LookUp_Table.csv"
   ]
  },
  {
   "cell_type": "code",
   "execution_count": null,
   "id": "environmental-bandwidth",
   "metadata": {},
   "outputs": [],
   "source": [
    "import csv\n",
    "\n",
    "with open('UID_ISO_FIPS_LookUp_Table.csv') as archivoCSV: \n",
    "  lector = csv.reader(archivoCSV, delimiter=',')\n",
    "  cuentaLineas = 0\n",
    "  for registro in lector:\n",
    "    cuentaLineas = cuentaLineas + 1\n",
    "    \n",
    "print(\"Cuenta Lineas: \", cuentaLineas)"
   ]
  },
  {
   "cell_type": "code",
   "execution_count": null,
   "id": "opposite-evolution",
   "metadata": {},
   "outputs": [],
   "source": [
    "import csv\n",
    "\n",
    "with open('UID_ISO_FIPS_LookUp_Table.csv') as archivoCSV: \n",
    "  lector = csv.reader(archivoCSV, delimiter=',')\n",
    "  cuentaLineas = 0\n",
    "  for registro in lector:\n",
    "    if cuentaLineas>1:\n",
    "        print(\"Pais: \", registro[10])\n",
    "        \n",
    "    cuentaLineas = cuentaLineas + 1\n",
    "    \n",
    "print(\"Cuenta Lineas: \", cuentaLineas)"
   ]
  },
  {
   "cell_type": "code",
   "execution_count": null,
   "id": "collected-today",
   "metadata": {},
   "outputs": [],
   "source": [
    "#Utilizacion de try/except\n",
    "import csv\n",
    "import math\n",
    "\n",
    "cantidadDeHabitantes=100000000\n",
    "\n",
    "with open('UID_ISO_FIPS_LookUp_Table.csv') as archivoCSV: \n",
    "  lector = csv.reader(archivoCSV, delimiter=',')\n",
    "  cuentaLineas = 0\n",
    "  for registro in lector:\n",
    "    if cuentaLineas>0:\n",
    "        try:\n",
    "          #math.sqrt(\"a\")\n",
    "          if int(registro[11])>cantidadDeHabitantes:\n",
    "            print(\"Pais: \", registro[11])\n",
    "        except ValueError:\n",
    "            print(\"Ha ocurrido un error, tranquilo no pasa nada...llame al programador\")\n",
    "        except AttributeError:\n",
    "            print(\"Ha ocurrido un error de atributo...corra...\")\n",
    "        except ZeroDivision:\n",
    "            print(\"Ha ocurrido un error, tranquilo no pasa nada...llame al programador\")\n",
    "        except:\n",
    "            print(\"Ha salido un error inesperado...invasion zombie\")\n",
    "        finally:\n",
    "            #cerrar archivo\n",
    "            print(\"Esto siempre se ejecuta\")\n",
    "            \n",
    "    #una instruccion a este nivel seria igual que el finally.\n",
    "        \n",
    "    cuentaLineas = cuentaLineas + 1\n",
    "    \n",
    "print(\"Cuenta Lineas: \", cuentaLineas)"
   ]
  },
  {
   "cell_type": "code",
   "execution_count": null,
   "id": "reflected-albany",
   "metadata": {},
   "outputs": [],
   "source": [
    "#Refactoring de programa anterior...ahora valida :)\n",
    "import csv\n",
    "\n",
    "cantidadDeHabitantes=100000000\n",
    "\n",
    "with open('UID_ISO_FIPS_LookUp_Table.csv') as archivoCSV: \n",
    "  lector = csv.reader(archivoCSV, delimiter=',')\n",
    "  cuentaLineas = 0\n",
    "  cuentaPaises = 0\n",
    "  for registro in lector:\n",
    "    if cuentaLineas>1:\n",
    "        #Validamos que cantidad de habitantes este vacio (==\"\")\n",
    "        cantidadHabitantesRegistro = registro[11];\n",
    "        if cantidadHabitantesRegistro==\"\":\n",
    "            cantidadHabitantesRegistro=0 #OJO con el cambio de tipo de dato :)\n",
    "        else:\n",
    "            cantidadHabitantesRegistro=int(cantidadHabitantesRegistro) #OJO con el cambio de tipo de dato :)\n",
    "        \n",
    "           #cantidadHabitantesRegistro ya es de tipo entero (por los cambios de tipo de datos del if y else, aqui arriba)\n",
    "        if cantidadHabitantesRegistro>cantidadDeHabitantes:\n",
    "          print(\"Pais: \", registro[10])\n",
    "          cuentaPaises+=1\n",
    "        \n",
    "    cuentaLineas = cuentaLineas + 1\n",
    "    \n",
    "print(\"Cantidad de Paises con numero de habitantes mayor a {} es {}\".format(cantidadDeHabitantes,cuentaPaises))"
   ]
  },
  {
   "cell_type": "code",
   "execution_count": null,
   "id": "orange-chair",
   "metadata": {},
   "outputs": [],
   "source": [
    "#Refactoring de programa anterior...ahora pregunta cantidad de habitantes y no muestra lista de paises\n",
    "import csv\n",
    "\n",
    "cantidadDeHabitantes=int(input(\"Ingrese cantidad de habitantes: \"))\n",
    "\n",
    "\n",
    "with open('UID_ISO_FIPS_LookUp_Table.csv') as archivoCSV: \n",
    "  lector = csv.reader(archivoCSV, delimiter=',')\n",
    "  cuentaLineas = 0\n",
    "  cuentaPaises = 0\n",
    "  for registro in lector:\n",
    "    if cuentaLineas>1:\n",
    "        #Validamos que cantidad de habitantes este vacio (==\"\")\n",
    "        cantidadHabitantesRegistro = registro[11];\n",
    "        if cantidadHabitantesRegistro==\"\":\n",
    "            cantidadHabitantesRegistro=0 #OJO con el cambio de tipo de dato :)\n",
    "        else:\n",
    "            cantidadHabitantesRegistro=int(cantidadHabitantesRegistro) #OJO con el cambio de tipo de dato :)\n",
    "        \n",
    "           #cantidadHabitantesRegistro ya es de tipo entero (por los cambios de tipo de datos del if y else, aqui arriba)\n",
    "        if cantidadHabitantesRegistro>cantidadDeHabitantes:\n",
    "          #print(\"Pais: \", registro[10])\n",
    "          cuentaPaises+=1\n",
    "        \n",
    "    cuentaLineas = cuentaLineas + 1\n",
    "    \n",
    "print(\"Cantidad de Paises con numero de habitantes mayor a {} es {}\".format(cantidadDeHabitantes,cuentaPaises))"
   ]
  },
  {
   "cell_type": "code",
   "execution_count": null,
   "id": "together-maryland",
   "metadata": {},
   "outputs": [],
   "source": []
  }
 ],
 "metadata": {
  "kernelspec": {
   "display_name": "Python 3",
   "language": "python",
   "name": "python3"
  },
  "language_info": {
   "codemirror_mode": {
    "name": "ipython",
    "version": 3
   },
   "file_extension": ".py",
   "mimetype": "text/x-python",
   "name": "python",
   "nbconvert_exporter": "python",
   "pygments_lexer": "ipython3",
   "version": "3.7.10"
  }
 },
 "nbformat": 4,
 "nbformat_minor": 5
}
