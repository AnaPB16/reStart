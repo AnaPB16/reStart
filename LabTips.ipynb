{
 "cells": [
  {
   "cell_type": "code",
   "execution_count": null,
   "id": "valuable-praise",
   "metadata": {},
   "outputs": [],
   "source": [
    "#https://www1.nyc.gov/site/tlc/about/tlc-trip-record-data.page\n",
    "!curl https://s3.amazonaws.com/nyc-tlc/trip+data/yellow_tripdata_2020-01.csv --output tripdata.csv"
   ]
  },
  {
   "cell_type": "code",
   "execution_count": null,
   "id": "micro-classic",
   "metadata": {},
   "outputs": [],
   "source": [
    "!head tripdata.csv"
   ]
  },
  {
   "cell_type": "code",
   "execution_count": null,
   "id": "endangered-manhattan",
   "metadata": {},
   "outputs": [],
   "source": [
    "#Este programa debe mostrar el total de registros que hay en el archivo\n",
    "import csv\n",
    "\n",
    "with open('tripdata.csv') as archivoCSV: \n",
    "  lector = csv.reader(archivoCSV, delimiter=',')\n",
    "  cuentaLineas = \"0\"\n",
    "  for registro in lector:\n",
    "    cuentaLineas = cuentaLineas + 1\n",
    "    \n",
    "print(\"Cuenta Lineas: \", cuentaLineas)"
   ]
  },
  {
   "cell_type": "code",
   "execution_count": null,
   "id": "great-arrow",
   "metadata": {},
   "outputs": [],
   "source": [
    "#Este programa debe mostrar el total de registros que hay en el archivo\n",
    "import csv\n",
    "\n",
    "with open('tripdata.csv') as archivoCSV: \n",
    "  lector = csv.reader(archivoCSV, delimiter=',')\n",
    "  c = 0\n",
    "  for registro in lector:\n",
    "    c += 1\n",
    "    \n",
    "print(\"Cuenta Lineas: \", cuentaLineas)"
   ]
  },
  {
   "cell_type": "code",
   "execution_count": null,
   "id": "green-religious",
   "metadata": {},
   "outputs": [],
   "source": [
    "#1 Que hace este programa?\n",
    "import csv\n",
    "\n",
    "with open('tripdata.csv') as archivoCSV: \n",
    "  lector = csv.reader(archivoCSV, delimiter=',')\n",
    "  c = 0\n",
    "  tip=0\n",
    "  for registro in lector:\n",
    "    if c > 1 and registro[5]!='':\n",
    "      tipRegistro=int(registro[5])\n",
    "      if tipRegistro>tip:\n",
    "         tip=tipRegistro\n",
    "    c += 1\n",
    "    \n",
    "print(tip)"
   ]
  },
  {
   "cell_type": "code",
   "execution_count": null,
   "id": "prescribed-gateway",
   "metadata": {},
   "outputs": [],
   "source": [
    "#2 Que hace este programa?\n",
    "import csv\n",
    "\n",
    "with open('tripdata.csv') as archivoCSV: \n",
    "  lector = csv.reader(archivoCSV, delimiter=',')\n",
    "  c = 0\n",
    "  cantidad=0\n",
    "  for registro in lector:\n",
    "    if c > 1 and registro[5]!='':\n",
    "      tipRegistro=int(registro[5])\n",
    "      if tipRegistro==99:\n",
    "         cantidad+=1\n",
    "    c += 1\n",
    "    \n",
    "print(cantidad)"
   ]
  },
  {
   "cell_type": "code",
   "execution_count": null,
   "id": "retired-frank",
   "metadata": {},
   "outputs": [],
   "source": [
    "#Programa Libre!"
   ]
  }
 ],
 "metadata": {
  "kernelspec": {
   "display_name": "Python 3",
   "language": "python",
   "name": "python3"
  },
  "language_info": {
   "codemirror_mode": {
    "name": "ipython",
    "version": 3
   },
   "file_extension": ".py",
   "mimetype": "text/x-python",
   "name": "python",
   "nbconvert_exporter": "python",
   "pygments_lexer": "ipython3",
   "version": "3.7.10"
  }
 },
 "nbformat": 4,
 "nbformat_minor": 5
}
