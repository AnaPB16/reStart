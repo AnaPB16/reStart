{
 "cells": [
  {
   "cell_type": "code",
   "execution_count": null,
   "id": "chronic-rebound",
   "metadata": {},
   "outputs": [],
   "source": [
    "variable=\"0\"\n",
    "variable = variable + 1\n",
    "print(variable)"
   ]
  },
  {
   "cell_type": "code",
   "execution_count": null,
   "id": "marine-particle",
   "metadata": {},
   "outputs": [],
   "source": [
    "#Porque siempre muestra \"verdad\"?\n",
    "variable=True\n",
    "\n",
    "if variable:\n",
    "    print(\"verdad\")\n",
    "else:\n",
    "    print(\"No es verdad\")"
   ]
  },
  {
   "cell_type": "code",
   "execution_count": null,
   "id": "conditional-defendant",
   "metadata": {},
   "outputs": [],
   "source": [
    "#Modificar la instrucción \"if\" para que este programa tenga sentido. Solo modificar la linea del if.\n",
    "saldo=150\n",
    "montoTransferencia=200\n",
    "if True:\n",
    "  print(\"Transferencia realizada\")\n",
    "else:\n",
    "  print(\"Fondos insuficientes\")"
   ]
  },
  {
   "cell_type": "code",
   "execution_count": null,
   "id": "indoor-medicare",
   "metadata": {},
   "outputs": [],
   "source": [
    "#asignar a la variable \"impuesto\" el 2% de \"montoTransferencia\"\n",
    "montoTransferencia=200\n",
    "impuesto=0\n",
    "print(\"La transferencia {} tiene un impuesto de: {}\".format(montoTransferencia, impuesto))"
   ]
  },
  {
   "cell_type": "code",
   "execution_count": null,
   "id": "mechanical-rendering",
   "metadata": {},
   "outputs": [],
   "source": [
    "#terminar programa para que calcule el promedio de la lista \"numeros\"\n",
    "numeros=[34,5,6,767,879,9]\n",
    "suma=0\n",
    "for n in numeros:\n",
    "    #AQUI falta codigo...\n",
    "\n",
    "promedio=promedio/len(numeros)\n",
    "print(promedio)"
   ]
  },
  {
   "cell_type": "code",
   "execution_count": null,
   "id": "blessed-tulsa",
   "metadata": {},
   "outputs": [],
   "source": []
  }
 ],
 "metadata": {
  "kernelspec": {
   "display_name": "Python 3",
   "language": "python",
   "name": "python3"
  },
  "language_info": {
   "codemirror_mode": {
    "name": "ipython",
    "version": 3
   },
   "file_extension": ".py",
   "mimetype": "text/x-python",
   "name": "python",
   "nbconvert_exporter": "python",
   "pygments_lexer": "ipython3",
   "version": "3.7.10"
  }
 },
 "nbformat": 4,
 "nbformat_minor": 5
}
